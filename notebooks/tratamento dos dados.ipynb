{
 "cells": [
  {
   "cell_type": "markdown",
   "id": "000c563d-2891-43d6-a652-98b173b8f6a5",
   "metadata": {},
   "source": [
    "# Tratamento dos Dados"
   ]
  },
  {
   "cell_type": "code",
   "execution_count": 4,
   "id": "5c56e5e8-cddb-4d16-b1c5-e24717b2b943",
   "metadata": {
    "tags": []
   },
   "outputs": [],
   "source": [
    "from IPython.display import display, Markdown\n",
    "import pandas as pd\n",
    "import numpy as np\n",
    "import seaborn as sns\n",
    "import matplotlib.pyplot as plt"
   ]
  },
  {
   "cell_type": "code",
   "execution_count": 11,
   "id": "b4106e05-265a-4a0d-833d-12566061eb67",
   "metadata": {
    "tags": []
   },
   "outputs": [],
   "source": [
    "df = pd.read_csv(\"../kaggle/ObesityDataSet_raw_and_data_sinthetic.csv\")"
   ]
  },
  {
   "cell_type": "markdown",
   "id": "0329c946-8fd5-4fa1-9957-228d45909ed8",
   "metadata": {
    "tags": []
   },
   "source": [
    "### Renomeando as colunas"
   ]
  },
  {
   "cell_type": "code",
   "execution_count": 9,
   "id": "5ef907ec-217c-4445-a2ed-5adc20074155",
   "metadata": {
    "tags": []
   },
   "outputs": [
    {
     "data": {
      "text/plain": [
       "Index(['idade', 'genero', 'altura', 'peso', 'nivel_atividade_fisica',\n",
       "       'consumo_frequente_alimentos', 'freq_consumo_vegetais',\n",
       "       'num_refeicoes_principais', 'scc', 'fumante', 'consumo_agua_diario',\n",
       "       'historico_familiar_sobrepeso', 'freq_atividade_fisica',\n",
       "       'tempo_uso_tecnologia', 'caec', 'mtrans', 'tipo_obesidade'],\n",
       "      dtype='object')"
      ]
     },
     "execution_count": 9,
     "metadata": {},
     "output_type": "execute_result"
    }
   ],
   "source": [
    "df.rename(columns={'Age': 'idade',\n",
    "                   'Gender': 'genero',\n",
    "                   'Height': 'altura',\n",
    "                   'Weight': 'peso',\n",
    "                   'CALC': 'consumo_de_alcool',\n",
    "                   'FAVC': 'consumo_frequente_alto_indice_calorico',\n",
    "                   'FCVC': 'freq_consumo_vegetais',\n",
    "                   'NCP': 'num_refeicoes_principais',\n",
    "                   'SCC': 'se_monitora_calorias',\n",
    "                   'SMOKE': 'tabagismo',\n",
    "                   'CH2O': 'consumo_agua_diario',\n",
    "                   'family_history_with_overweight': 'historico_familiar_sobrepeso',\n",
    "                   'FAF': 'freq_atividade_fisica',\n",
    "                   'TUE': 'tempo_uso_tecnologia',\n",
    "                   'CAEC': 'consumo_de_comida_entre_refeicoes',\n",
    "                   'MTRANS': 'meio_de_transporte_usado_regularmente',\n",
    "                   'NObeyesdad': 'tipo_obesidade'}, inplace=True)\n",
    "df.columns"
   ]
  },
  {
   "cell_type": "code",
   "execution_count": 15,
   "id": "75bd8ff9-2b67-4bfd-80e2-732787bc10e5",
   "metadata": {
    "tags": []
   },
   "outputs": [],
   "source": [
    "df.to_csv(\"../kaggle/ObesityDataSet_colunas_renomeadas.csv\", index=False)"
   ]
  },
  {
   "cell_type": "code",
   "execution_count": 16,
   "id": "a0e58136-1447-4127-bd48-9bdb9b8f54fa",
   "metadata": {
    "tags": []
   },
   "outputs": [
    {
     "data": {
      "text/plain": [
       "Age                               float64\n",
       "Gender                             object\n",
       "Height                            float64\n",
       "Weight                            float64\n",
       "CALC                               object\n",
       "FAVC                               object\n",
       "FCVC                              float64\n",
       "NCP                               float64\n",
       "SCC                                object\n",
       "SMOKE                              object\n",
       "CH2O                              float64\n",
       "family_history_with_overweight     object\n",
       "FAF                               float64\n",
       "TUE                               float64\n",
       "CAEC                               object\n",
       "MTRANS                             object\n",
       "NObeyesdad                         object\n",
       "dtype: object"
      ]
     },
     "execution_count": 16,
     "metadata": {},
     "output_type": "execute_result"
    }
   ],
   "source": [
    "df.dtypes"
   ]
  },
  {
   "cell_type": "code",
   "execution_count": null,
   "id": "e34d42f6-8fdb-41bb-a062-c90595a7a812",
   "metadata": {},
   "outputs": [],
   "source": []
  }
 ],
 "metadata": {
  "kernelspec": {
   "display_name": "Python 3 (ipykernel)",
   "language": "python",
   "name": "python3"
  },
  "language_info": {
   "codemirror_mode": {
    "name": "ipython",
    "version": 3
   },
   "file_extension": ".py",
   "mimetype": "text/x-python",
   "name": "python",
   "nbconvert_exporter": "python",
   "pygments_lexer": "ipython3",
   "version": "3.10.12"
  }
 },
 "nbformat": 4,
 "nbformat_minor": 5
}
